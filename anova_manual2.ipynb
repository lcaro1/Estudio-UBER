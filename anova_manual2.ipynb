{
 "cells": [
  {
   "cell_type": "code",
   "execution_count": 73,
   "metadata": {},
   "outputs": [],
   "source": [
    "import os\n",
    "import numpy as np\n",
    "import pandas as pd\n",
    "from scipy import stats"
   ]
  },
  {
   "cell_type": "code",
   "execution_count": 2,
   "metadata": {},
   "outputs": [],
   "source": [
    "os.chdir(\"C:/Users/BabyPink/Documents/Estudio_UBER/\")\n",
    "df = pd.read_csv(\"dataframes/preparados/df_uber.csv\", sep=\",\", parse_dates= [\"date\"],\n",
    "                        dtype={\"sourceid\": np.int16, \"dstid\":np.int16, \"day_name\":np.int8 , \"cat_time_range\":np.int8,\n",
    "                                \"mean_travel_time\":np.float32, \"standard_deviation_travel_time\": np.float32, \n",
    "                                \"dist_kms\":np.float32 , \"vel_kms_hr\": np.float32, \"cancelado\":np.int8, \"resultado\":np.int8},\n",
    "                        memory_map=True,\n",
    "                        usecols=['date', 'day_name', 'cat_time_range','mean_travel_time'],\n",
    "                        index_col=False)"
   ]
  },
  {
   "cell_type": "code",
   "execution_count": 3,
   "metadata": {},
   "outputs": [],
   "source": [
    "# Degrees of Freedom"
   ]
  },
  {
   "cell_type": "code",
   "execution_count": 4,
   "metadata": {},
   "outputs": [],
   "source": [
    "N = len(df.mean_travel_time)\n",
    "df_a = len(df.cat_time_range.unique()) - 1\n",
    "df_b = len(df.day_name.unique()) - 1\n",
    "df_axb = df_a*df_b\n",
    "df_w = N - (len(df.cat_time_range.unique())*len(df.day_name.unique()))"
   ]
  },
  {
   "cell_type": "code",
   "execution_count": 5,
   "metadata": {},
   "outputs": [],
   "source": [
    "# Sum of Squares"
   ]
  },
  {
   "cell_type": "code",
   "execution_count": 6,
   "metadata": {},
   "outputs": [
    {
     "data": {
      "text/plain": [
       "11.479108"
      ]
     },
     "execution_count": 6,
     "metadata": {},
     "output_type": "execute_result"
    }
   ],
   "source": [
    "grand_mean = df['mean_travel_time'].mean()\n",
    "grand_mean"
   ]
  },
  {
   "cell_type": "code",
   "execution_count": 7,
   "metadata": {},
   "outputs": [],
   "source": [
    "# Sum of Squares A (cat_time_range)"
   ]
  },
  {
   "cell_type": "code",
   "execution_count": 7,
   "metadata": {},
   "outputs": [
    {
     "data": {
      "text/plain": [
       "7562203.88638781"
      ]
     },
     "execution_count": 7,
     "metadata": {},
     "output_type": "execute_result"
    }
   ],
   "source": [
    "ssq_a = sum([df.groupby('cat_time_range')[\"mean_travel_time\"].count()[j]*(df.groupby('cat_time_range')[\"mean_travel_time\"].mean()[j]-grand_mean)**2 for j in range(len(df.cat_time_range.unique()))])\n",
    "ssq_a\n"
   ]
  },
  {
   "cell_type": "code",
   "execution_count": 9,
   "metadata": {},
   "outputs": [],
   "source": [
    "# Sum of Squares B (day_name)"
   ]
  },
  {
   "cell_type": "code",
   "execution_count": 8,
   "metadata": {},
   "outputs": [
    {
     "data": {
      "text/plain": [
       "13886537.707660919"
      ]
     },
     "execution_count": 8,
     "metadata": {},
     "output_type": "execute_result"
    }
   ],
   "source": [
    "ssq_b = sum([df.groupby('day_name')[\"mean_travel_time\"].count()[j]*(df.groupby('day_name')[\"mean_travel_time\"].mean()[j]-grand_mean)**2 for j in range(len(df.day_name.unique()))])\n",
    "ssq_b"
   ]
  },
  {
   "cell_type": "code",
   "execution_count": 11,
   "metadata": {},
   "outputs": [],
   "source": [
    "# Sum of Squares Total"
   ]
  },
  {
   "cell_type": "code",
   "execution_count": 69,
   "metadata": {},
   "outputs": [
    {
     "data": {
      "text/plain": [
       "1171823000.0"
      ]
     },
     "execution_count": 69,
     "metadata": {},
     "output_type": "execute_result"
    }
   ],
   "source": [
    "ssq_t = ((df.mean_travel_time - grand_mean)**2).sum()\n",
    "ssq_t"
   ]
  },
  {
   "cell_type": "code",
   "execution_count": 13,
   "metadata": {},
   "outputs": [],
   "source": [
    "# Sum of Squares Within (error/residual)"
   ]
  },
  {
   "cell_type": "code",
   "execution_count": 29,
   "metadata": {},
   "outputs": [],
   "source": [
    "mad=df[df.cat_time_range == 0]\n",
    "man=df[df.cat_time_range == 1]\n",
    "med=df[df.cat_time_range == 2]\n",
    "Tar=df[df.cat_time_range == 3]\n",
    "noc=df[df.cat_time_range == 4]"
   ]
  },
  {
   "cell_type": "code",
   "execution_count": 34,
   "metadata": {},
   "outputs": [],
   "source": [
    "mad_day_media = [mad[mad.day_name == d].mean_travel_time.mean() for d in range(len(df.day_name.unique()))]\n",
    "man_day_media = [mad[mad.day_name == d].mean_travel_time.mean() for d in range(len(df.day_name.unique()))]\n",
    "med_day_media = [mad[mad.day_name == d].mean_travel_time.mean() for d in range(len(df.day_name.unique()))]\n",
    "Tar_day_media = [mad[mad.day_name == d].mean_travel_time.mean() for d in range(len(df.day_name.unique()))]\n",
    "noc_day_media = [mad[mad.day_name == d].mean_travel_time.mean() for d in range(len(df.day_name.unique()))]\n"
   ]
  },
  {
   "cell_type": "code",
   "execution_count": 65,
   "metadata": {},
   "outputs": [],
   "source": [
    "ssq_w_0_dd=sum([sum((mad[mad.day_name == j].mean_travel_time - mad_day_media[j])**2) for j in range (len(df.day_name.unique()))])\n",
    "ssq_w_1_dd=sum([sum((man[man.day_name == j].mean_travel_time - mad_day_media[j])**2) for j in range (len(df.day_name.unique()))])\n",
    "ssq_w_2_dd=sum([sum((med[med.day_name == j].mean_travel_time - mad_day_media[j])**2) for j in range (len(df.day_name.unique()))])\n",
    "ssq_w_3_dd=sum([sum((Tar[Tar.day_name == j].mean_travel_time - mad_day_media[j])**2) for j in range (len(df.day_name.unique()))])\n",
    "ssq_w_4_dd=sum([sum((noc[noc.day_name == j].mean_travel_time - mad_day_media[j])**2) for j in range (len(df.day_name.unique()))])\n"
   ]
  },
  {
   "cell_type": "code",
   "execution_count": 66,
   "metadata": {},
   "outputs": [
    {
     "data": {
      "text/plain": [
       "1251139997.8723295"
      ]
     },
     "execution_count": 66,
     "metadata": {},
     "output_type": "execute_result"
    }
   ],
   "source": [
    "ssq_w = ssq_w_0_dd+ssq_w_1_dd+ssq_w_2_dd+ssq_w_3_dd+ssq_w_4_dd\n",
    "ssq_w"
   ]
  },
  {
   "cell_type": "code",
   "execution_count": null,
   "metadata": {},
   "outputs": [],
   "source": [
    "# Sum of Squares interaction"
   ]
  },
  {
   "cell_type": "code",
   "execution_count": 70,
   "metadata": {},
   "outputs": [
    {
     "data": {
      "text/plain": [
       "-100765763.46637821"
      ]
     },
     "execution_count": 70,
     "metadata": {},
     "output_type": "execute_result"
    }
   ],
   "source": [
    "ssq_axb = ssq_t-ssq_a-ssq_b-ssq_w\n",
    "ssq_axb"
   ]
  },
  {
   "cell_type": "code",
   "execution_count": null,
   "metadata": {},
   "outputs": [],
   "source": [
    "# Mean Squares"
   ]
  },
  {
   "cell_type": "code",
   "execution_count": 71,
   "metadata": {},
   "outputs": [],
   "source": [
    "# Mean Square A\n",
    "ms_a = ssq_a/df_a\n",
    "\n",
    "# Mean Square B\n",
    "ms_b = ssq_b/df_b\n",
    "\n",
    "# Mean Square AxB\n",
    "ms_axb = ssq_axb/df_axb\n",
    "\n",
    "# Mean Square Within/Error/Residual\n",
    "ms_w = ssq_w/df_w\n",
    "\n",
    "\n"
   ]
  },
  {
   "cell_type": "code",
   "execution_count": null,
   "metadata": {},
   "outputs": [],
   "source": [
    "# F-ratio"
   ]
  },
  {
   "cell_type": "code",
   "execution_count": 72,
   "metadata": {},
   "outputs": [],
   "source": [
    "f_a = ms_a/ms_w\n",
    "f_b = ms_b/ms_w\n",
    "f_axb = ms_axb/ms_w"
   ]
  },
  {
   "cell_type": "code",
   "execution_count": null,
   "metadata": {},
   "outputs": [],
   "source": [
    "# Obtaining p-values"
   ]
  },
  {
   "cell_type": "code",
   "execution_count": 74,
   "metadata": {},
   "outputs": [],
   "source": [
    "p_a = stats.f.sf(f_a, df_a, df_w)\n",
    "p_b = stats.f.sf(f_b, df_b, df_w)\n",
    "p_axb = stats.f.sf(f_axb, df_axb, df_w)"
   ]
  },
  {
   "cell_type": "code",
   "execution_count": null,
   "metadata": {},
   "outputs": [],
   "source": [
    "# ANOVA table"
   ]
  },
  {
   "cell_type": "code",
   "execution_count": 76,
   "metadata": {},
   "outputs": [
    {
     "data": {
      "text/html": [
       "<div>\n",
       "<style scoped>\n",
       "    .dataframe tbody tr th:only-of-type {\n",
       "        vertical-align: middle;\n",
       "    }\n",
       "\n",
       "    .dataframe tbody tr th {\n",
       "        vertical-align: top;\n",
       "    }\n",
       "\n",
       "    .dataframe thead th {\n",
       "        text-align: right;\n",
       "    }\n",
       "</style>\n",
       "<table border=\"1\" class=\"dataframe\">\n",
       "  <thead>\n",
       "    <tr style=\"text-align: right;\">\n",
       "      <th></th>\n",
       "      <th>sum_sq</th>\n",
       "      <th>df</th>\n",
       "      <th>F</th>\n",
       "      <th>PR(&amp;gt;F)</th>\n",
       "    </tr>\n",
       "  </thead>\n",
       "  <tbody>\n",
       "    <tr>\n",
       "      <th>cat_time_range</th>\n",
       "      <td>7.562204e+06</td>\n",
       "      <td>4</td>\n",
       "      <td>44918.907287</td>\n",
       "      <td>0.0</td>\n",
       "    </tr>\n",
       "    <tr>\n",
       "      <th>day_name</th>\n",
       "      <td>1.388654e+07</td>\n",
       "      <td>6</td>\n",
       "      <td>54989.974633</td>\n",
       "      <td>0.0</td>\n",
       "    </tr>\n",
       "    <tr>\n",
       "      <th>cat_time_range:day_name</th>\n",
       "      <td>-1.007658e+08</td>\n",
       "      <td>24</td>\n",
       "      <td>-99756.809321</td>\n",
       "      <td>1.0</td>\n",
       "    </tr>\n",
       "    <tr>\n",
       "      <th>Residual</th>\n",
       "      <td>1.251140e+09</td>\n",
       "      <td>29726700</td>\n",
       "      <td>NaN</td>\n",
       "      <td>NaN</td>\n",
       "    </tr>\n",
       "  </tbody>\n",
       "</table>\n",
       "</div>"
      ],
      "text/plain": [
       "                               sum_sq        df             F PR(&gt;F)\n",
       "cat_time_range           7.562204e+06         4  44918.907287       0.0\n",
       "day_name                 1.388654e+07         6  54989.974633       0.0\n",
       "cat_time_range:day_name -1.007658e+08        24 -99756.809321       1.0\n",
       "Residual                 1.251140e+09  29726700           NaN       NaN"
      ]
     },
     "execution_count": 76,
     "metadata": {},
     "output_type": "execute_result"
    }
   ],
   "source": [
    "results = {'sum_sq':[ssq_a, ssq_b, ssq_axb, ssq_w],\n",
    "           'df':[df_a, df_b, df_axb, df_w],\n",
    "           'F':[f_a, f_b, f_axb, 'NaN'],\n",
    "            'PR(&gt;F)':[p_a, p_b, p_axb, 'NaN']}\n",
    "columns=['sum_sq', 'df', 'F', 'PR(&gt;F)']\n",
    "aov_table1 = pd.DataFrame(results, columns=columns,\n",
    "                          index=['cat_time_range', 'day_name', \n",
    "                          'cat_time_range:day_name', 'Residual'])\n",
    "\n",
    "aov_table1"
   ]
  },
  {
   "cell_type": "code",
   "execution_count": null,
   "metadata": {},
   "outputs": [],
   "source": []
  },
  {
   "cell_type": "code",
   "execution_count": 27,
   "metadata": {},
   "outputs": [],
   "source": [
    "medias_=df.groupby([\"cat_time_range\", \"day_name\"])[\"mean_travel_time\"].mean()"
   ]
  },
  {
   "cell_type": "code",
   "execution_count": 39,
   "metadata": {},
   "outputs": [
    {
     "data": {
      "text/plain": [
       "cat_time_range  day_name\n",
       "0               0            9.513391\n",
       "                1            8.610188\n",
       "                2           10.808045\n",
       "                3            9.584452\n",
       "                4           10.284332\n",
       "                5           11.781633\n",
       "                6           12.172630\n",
       "1               0           12.098429\n",
       "                1           11.280171\n",
       "                2           11.317348\n",
       "                3           11.708821\n",
       "                4           12.334876\n",
       "                5            8.737559\n",
       "                6            7.904319\n",
       "2               0           11.564168\n",
       "                1           11.475990\n",
       "                2           11.685236\n",
       "                3           11.915915\n",
       "                4           13.071247\n",
       "                5           11.776781\n",
       "                6           10.234344\n",
       "3               0           11.175935\n",
       "                1           11.293541\n",
       "                2           11.770928\n",
       "                3           12.009940\n",
       "                4           14.547859\n",
       "                5            9.641719\n",
       "                6            8.850854\n",
       "4               0           11.042589\n",
       "                1           11.488059\n",
       "                2           11.836252\n",
       "                3           12.318079\n",
       "                4           13.646428\n",
       "                5           12.447045\n",
       "                6           11.436213\n",
       "Name: mean_travel_time, dtype: float32"
      ]
     },
     "execution_count": 39,
     "metadata": {},
     "output_type": "execute_result"
    }
   ],
   "source": [
    "medias_"
   ]
  },
  {
   "cell_type": "code",
   "execution_count": 21,
   "metadata": {},
   "outputs": [
    {
     "data": {
      "text/plain": [
       "[5           16.709999\n",
       " 6           14.780000\n",
       " 12          19.150000\n",
       " 26          15.920000\n",
       " 34          16.090000\n",
       "               ...    \n",
       " 29726727    18.370001\n",
       " 29726728    22.760000\n",
       " 29726731    15.460000\n",
       " 29726732    26.940001\n",
       " 29726733    23.959999\n",
       " Name: mean_travel_time, Length: 5972301, dtype: float32]"
      ]
     },
     "execution_count": 21,
     "metadata": {},
     "output_type": "execute_result"
    }
   ],
   "source": [
    "[df[df.cat_time_range==0].mean_travel_time]"
   ]
  },
  {
   "cell_type": "code",
   "execution_count": null,
   "metadata": {},
   "outputs": [],
   "source": [
    "df.groupby([\"cat_time_range\", 'day_name'])[\"mean_travel_time\"].mean()[0][0]"
   ]
  },
  {
   "cell_type": "code",
   "execution_count": 15,
   "metadata": {},
   "outputs": [
    {
     "data": {
      "text/plain": [
       "Index(['Unnamed: 0', 'len', 'supp', 'dose'], dtype='object')"
      ]
     },
     "execution_count": 15,
     "metadata": {},
     "output_type": "execute_result"
    }
   ],
   "source": [
    "df.columns"
   ]
  }
 ],
 "metadata": {
  "kernelspec": {
   "display_name": "Python 3.10.6 64-bit",
   "language": "python",
   "name": "python3"
  },
  "language_info": {
   "codemirror_mode": {
    "name": "ipython",
    "version": 3
   },
   "file_extension": ".py",
   "mimetype": "text/x-python",
   "name": "python",
   "nbconvert_exporter": "python",
   "pygments_lexer": "ipython3",
   "version": "3.10.6"
  },
  "orig_nbformat": 4,
  "vscode": {
   "interpreter": {
    "hash": "1f992374ed2be77ad450bbc49376b661d64b1e38e615d960d18e64e6be689fa9"
   }
  }
 },
 "nbformat": 4,
 "nbformat_minor": 2
}
